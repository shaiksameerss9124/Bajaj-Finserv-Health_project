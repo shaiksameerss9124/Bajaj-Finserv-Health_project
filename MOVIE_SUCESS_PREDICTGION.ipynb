{
  "nbformat": 4,
  "nbformat_minor": 0,
  "metadata": {
    "colab": {
      "provenance": [],
      "include_colab_link": true
    },
    "kernelspec": {
      "name": "python3",
      "display_name": "Python 3"
    },
    "language_info": {
      "name": "python"
    }
  },
  "cells": [
    {
      "cell_type": "markdown",
      "metadata": {
        "id": "view-in-github",
        "colab_type": "text"
      },
      "source": [
        "<a href=\"https://colab.research.google.com/github/shaiksameerss9124/Bajaj-Finserv-Health_project/blob/master/MOVIE_SUCESS_PREDICTGION.ipynb\" target=\"_parent\"><img src=\"https://colab.research.google.com/assets/colab-badge.svg\" alt=\"Open In Colab\"/></a>"
      ]
    },
    {
      "cell_type": "code",
      "source": [
        "import pandas as pd\n",
        "from sklearn.model_selection import train_test_split\n",
        "from sklearn.ensemble import RandomForestClassifier\n",
        "from sklearn.preprocessing import OneHotEncoder\n",
        "from sklearn.impute import SimpleImputer\n",
        "from sklearn.pipeline import Pipeline\n",
        "from sklearn.compose import ColumnTransformer\n",
        "from sklearn.metrics import classification_report, accuracy_score, confusion_matrix\n",
        "import joblib\n",
        "import matplotlib.pyplot as plt\n",
        "import seaborn as sns\n",
        "\n",
        "# Load dataset\n",
        "df = pd.read_csv(\"/content/movie_metadata.csv\")\n",
        "\n",
        "# Step 1: Define success label\n",
        "df['success'] = (df['imdb_score'] >= 6.5).astype(int)  # You can change threshold as needed\n",
        "\n",
        "# Step 2: Drop rows with missing critical values\n",
        "df.dropna(subset=['director_name', 'actor_1_name', 'actor_2_name', 'actor_3_name', 'genres'], inplace=True)\n",
        "\n",
        "# Step 3: Helper function to compute genre-specific success ratios\n",
        "def compute_genre_success_ratio(df, role_col, success_col='success'):\n",
        "    ratios = df.groupby([role_col, 'genres'])[success_col].mean().reset_index()\n",
        "    ratios.columns = [role_col, 'genres', 'success_ratio']\n",
        "    return ratios\n",
        "\n",
        "# Step 4: Compute and merge success ratios\n",
        "df = df.merge(compute_genre_success_ratio(df, 'director_name').rename(columns={'success_ratio': 'director_ratio'}),\n",
        "              on=['director_name', 'genres'], how='left')\n",
        "\n",
        "df = df.merge(compute_genre_success_ratio(df, 'actor_1_name').rename(columns={'success_ratio': 'actor1_ratio'}),\n",
        "              on=['actor_1_name', 'genres'], how='left')\n",
        "\n",
        "df = df.merge(compute_genre_success_ratio(df, 'actor_2_name').rename(columns={'success_ratio': 'actor2_ratio'}),\n",
        "              on=['actor_2_name', 'genres'], how='left')\n",
        "\n",
        "df = df.merge(compute_genre_success_ratio(df, 'actor_3_name').rename(columns={'success_ratio': 'actor3_ratio'}),\n",
        "              on=['actor_3_name', 'genres'], how='left')\n",
        "\n",
        "# Step 5: Select features and target\n",
        "X = df[['director_ratio', 'actor1_ratio', 'actor2_ratio', 'actor3_ratio',\n",
        "        'genres', 'content_rating', 'language', 'country']]\n",
        "y = df['success']\n",
        "\n",
        "# Step 6: Define column types\n",
        "numerical_cols = ['director_ratio', 'actor1_ratio', 'actor2_ratio', 'actor3_ratio']\n",
        "categorical_cols = ['genres', 'content_rating', 'language', 'country']\n",
        "\n",
        "# Step 7: Preprocessing pipeline\n",
        "preprocessor = ColumnTransformer([\n",
        "    ('num', Pipeline([\n",
        "        ('imputer', SimpleImputer(strategy='mean'))\n",
        "    ]), numerical_cols),\n",
        "\n",
        "    ('cat', Pipeline([\n",
        "        ('imputer', SimpleImputer(strategy='most_frequent')),\n",
        "        ('onehot', OneHotEncoder(handle_unknown='ignore'))\n",
        "    ]), categorical_cols)\n",
        "])\n",
        "\n",
        "# Step 8: Full pipeline with Random Forest\n",
        "model = Pipeline([\n",
        "    ('preprocessor', preprocessor),\n",
        "    ('classifier', RandomForestClassifier(n_estimators=100, random_state=42))\n",
        "])\n",
        "\n",
        "# Step 9: Train/test split\n",
        "X_train, X_test, y_train, y_test = train_test_split(X, y, test_size=0.2, random_state=42)\n",
        "\n",
        "# Step 10: Train model\n",
        "model.fit(X_train, y_train)\n",
        "\n",
        "# Step 11: Evaluate\n",
        "y_pred = model.predict(X_test)\n",
        "print(\"✅ Accuracy:\", accuracy_score(y_test, y_pred))\n",
        "print(classification_report(y_test, y_pred))\n",
        "\n",
        "# Step 12: Save model\n",
        "joblib.dump(model, \"movie_success_genrewise_predictor.pkl\")\n",
        "print(\"✅ Model saved as movie_success_genrewise_predictor.pkl\")\n"
      ],
      "metadata": {
        "colab": {
          "base_uri": "https://localhost:8080/"
        },
        "id": "sZk9XMzFdW9x",
        "outputId": "965b9949-8544-4adf-ee0d-45f822d7fd57"
      },
      "execution_count": null,
      "outputs": [
        {
          "output_type": "stream",
          "name": "stdout",
          "text": [
            "✅ Accuracy: 0.9989837398373984\n",
            "              precision    recall  f1-score   support\n",
            "\n",
            "           0       1.00      1.00      1.00       473\n",
            "           1       1.00      1.00      1.00       511\n",
            "\n",
            "    accuracy                           1.00       984\n",
            "   macro avg       1.00      1.00      1.00       984\n",
            "weighted avg       1.00      1.00      1.00       984\n",
            "\n",
            "✅ Model saved as movie_success_genrewise_predictor.pkl\n"
          ]
        }
      ]
    },
    {
      "cell_type": "markdown",
      "source": [
        "# **1.Confusion Matrix Plot**"
      ],
      "metadata": {
        "id": "CgktEDiTq40t"
      }
    },
    {
      "cell_type": "code",
      "source": [
        "cm = confusion_matrix(y_test, y_pred)\n",
        "plt.figure(figsize=(8, 6))\n",
        "sns.heatmap(cm, annot=True, fmt='d', cmap='Blues', xticklabels=['Flop', 'Hit'], yticklabels=['Flop', 'Hit'])\n",
        "plt.xlabel('Predicted')\n",
        "plt.ylabel('Actual')\n",
        "plt.title('Confusion Matrix')\n",
        "plt.show()"
      ],
      "metadata": {
        "colab": {
          "base_uri": "https://localhost:8080/",
          "height": 564
        },
        "id": "cf6I85XYqtDA",
        "outputId": "b5e2d8fd-ab20-46e3-8d99-bba6f4c85193"
      },
      "execution_count": null,
      "outputs": [
        {
          "output_type": "display_data",
          "data": {
            "text/plain": [
              "<Figure size 800x600 with 2 Axes>"
            ],
            "image/png": "[encoded data removed]"
          },
          "metadata": {}
        }
      ]
    },
    {
      "cell_type": "markdown",
      "source": [
        "# **Histogram of Actual vs Predicted**"
      ],
      "metadata": {
        "id": "Rsgp9lyZrFeX"
      }
    },
    {
      "cell_type": "code",
      "source": [
        "plt.figure(figsize=(8, 6))  # Set the figure size for the plot\n",
        "plt.hist(y_test, bins=30, alpha=0.5, label='Actual', color='blue')  # Plot the histogram for actual values\n",
        "plt.hist(y_pred, bins=30, alpha=0.5, label='Predicted', color='orange')  # Plot the histogram for predicted values\n",
        "plt.xlabel('Movie Success (0 = Flop, 1 = Hit)')  # X-axis label\n",
        "plt.ylabel('Frequency')  # Y-axis label\n",
        "plt.title('Histogram of Actual vs Predicted Movie Success')  # Title of the plot\n",
        "plt.legend()  # Display legend\n",
        "plt.show()  # Show the plot\n"
      ],
      "metadata": {
        "colab": {
          "base_uri": "https://localhost:8080/",
          "height": 564
        },
        "id": "7_Ltctfpq2cW",
        "outputId": "5565aa92-7f8b-4fb2-f5f4-5eab42a4dcfb"
      },
      "execution_count": null,
      "outputs": [
        {
          "output_type": "display_data",
          "data": {
            "text/plain": [
              "<Figure size 800x600 with 1 Axes>"
            ],
            "image/png": "[encoded data removed]"
          },
          "metadata": {}
        }
      ]
    },
    {
      "cell_type": "markdown",
      "source": [
        "# ** ROC Curve**"
      ],
      "metadata": {
        "id": "qG5BjSnssAm0"
      }
    },
    {
      "cell_type": "code",
      "source": [
        "from sklearn.metrics import roc_curve, auc\n",
        "\n",
        "# Compute ROC curve\n",
        "fpr, tpr, thresholds = roc_curve(y_test, model.predict_proba(X_test)[:, 1])\n",
        "roc_auc = auc(fpr, tpr)\n",
        "\n",
        "# Plot ROC curve\n",
        "plt.figure(figsize=(8, 6))\n",
        "plt.plot(fpr, tpr, color='darkorange', lw=2, label=f'ROC curve (area = {roc_auc:.2f})')\n",
        "plt.plot([0, 1], [0, 1], color='navy', lw=2, linestyle='--')\n",
        "plt.xlim([0.0, 1.0])\n",
        "plt.ylim([0.0, 1.05])\n",
        "plt.xlabel('False Positive Rate')\n",
        "plt.ylabel('True Positive Rate')\n",
        "plt.title('Receiver Operating Characteristic (ROC)')\n",
        "plt.legend(loc='lower right')\n",
        "plt.show()\n"
      ],
      "metadata": {
        "colab": {
          "base_uri": "https://localhost:8080/",
          "height": 564
        },
        "id": "NYD7drYTrZID",
        "outputId": "9d357e1a-ccb7-4fd5-d267-27a8b7ba8a15"
      },
      "execution_count": null,
      "outputs": [
        {
          "output_type": "display_data",
          "data": {
            "text/plain": [
              "<Figure size 800x600 with 1 Axes>"
            ],
            "image/png": "[encoded data removed]"
          },
          "metadata": {}
        }
      ]
    },
    {
      "cell_type": "markdown",
      "source": [
        "### **count plot** --> that shows the distribution of predicted movie success based on the model's output."
      ],
      "metadata": {
        "id": "UdD6YgoquSdB"
      }
    },
    {
      "cell_type": "code",
      "source": [
        "# Plot distribution of predictions\n",
        "plt.figure(figsize=(8, 6))\n",
        "sns.countplot(x=y_pred, palette='Set2')\n",
        "plt.xlabel('Predicted Movie Success')\n",
        "plt.ylabel('Count')\n",
        "plt.title('Distribution of Predicted Movie Success')\n",
        "plt.show()\n"
      ],
      "metadata": {
        "colab": {
          "base_uri": "https://localhost:8080/",
          "height": 671
        },
        "id": "ltRI270ktYKv",
        "outputId": "ab8b722e-9391-4c5c-d375-45ca1c2223b2"
      },
      "execution_count": null,
      "outputs": [
        {
          "output_type": "stream",
          "name": "stderr",
          "text": [
            "<ipython-input-34-3fd65f598fed>:3: FutureWarning: \n",
            "\n",
            "Passing `palette` without assigning `hue` is deprecated and will be removed in v0.14.0. Assign the `x` variable to `hue` and set `legend=False` for the same effect.\n",
            "\n",
            "  sns.countplot(x=y_pred, palette='Set2')\n"
          ]
        },
        {
          "output_type": "display_data",
          "data": {
            "text/plain": [
              "<Figure size 800x600 with 1 Axes>"
            ],
            "image/png": "[encoded data removed]"
          },
          "metadata": {}
        }
      ]
    },
    {
      "cell_type": "code",
      "source": [
        "import pickle\n",
        "\n",
        "# Path to your .pkl file\n",
        "file_path = '/content/movie_success_genrewise_predictor.pkl'\n",
        "\n",
        "# Open the file and load the object\n",
        "with open(file_path, 'rb') as file:\n",
        "    data = pickle.load(file)\n",
        "\n",
        "# Now you can use 'data', which contains the object that was stored in the pickle file\n",
        "print(data)"
      ],
      "metadata": {
        "colab": {
          "base_uri": "https://localhost:8080/"
        },
        "id": "aiY9XxyadZlk",
        "outputId": "24946a3b-dec7-48a8-9d79-2fc80db37710"
      },
      "execution_count": null,
      "outputs": [
        {
          "output_type": "stream",
          "name": "stdout",
          "text": [
            "['director_ratio' 'actor1_ratio' 'actor2_ratio' 'actor3_ratio' 'genres'\n",
            " 'content_rating' 'language' 'country']\n"
          ]
        }
      ]
    },
    {
      "cell_type": "code",
      "source": [
        "!pip install streamlit\n",
        "\n",
        "import streamlit as st\n",
        "import pandas as pd\n",
        "import joblib\n",
        "\n",
        "# Load saved model\n",
        "model = joblib.load(\"movie_success_genrewise_predictor.pkl\")\n",
        "df = pd.read_csv(\"movie_metadata.csv\")\n",
        "df['success'] = (df['imdb_score'] >= 6.5).astype(int)\n",
        "\n",
        "# Compute success ratios\n",
        "def compute_genre_success_ratio(df, role_col):\n",
        "    ratio = df.groupby([role_col, 'genres'])['success'].mean().reset_index()\n",
        "    ratio.columns = [role_col, 'genres', 'success_ratio']\n",
        "    return ratio\n",
        "\n",
        "director_ratio_df = compute_genre_success_ratio(df, 'director_name')\n",
        "actor1_ratio_df = compute_genre_success_ratio(df, 'actor_1_name')\n",
        "actor2_ratio_df = compute_genre_success_ratio(df, 'actor_2_name')\n",
        "actor3_ratio_df = compute_genre_success_ratio(df, 'actor_3_name')\n",
        "\n",
        "def get_ratio(ratio_df, name, genre):\n",
        "    match = ratio_df[(ratio_df[ratio_df.columns[0]] == name) & (ratio_df['genres'] == genre)]\n",
        "    return float(match['success_ratio']) if not match.empty else 0.5\n",
        "\n",
        "# Streamlit UI\n",
        "st.title(\"🎬 Movie Success Predictor\")\n",
        "st.markdown(\"Predict if a movie will be a **HIT or FLOP** based on past genre-wise performance of director & actors.\")\n",
        "\n",
        "with st.form(\"movie_form\"):\n",
        "    director = st.text_input(\"Director Name\", \"Steven Spielberg\")\n",
        "    actor1 = st.text_input(\"Actor 1 Name\", \"Tom Hanks\")\n",
        "    actor2 = st.text_input(\"Actor 2 Name\", \"Robin Williams\")\n",
        "    actor3 = st.text_input(\"Actor 3 Name\", \"Meryl Streep\")\n",
        "    genre = st.text_input(\"Genre\", \"Drama\")\n",
        "    rating = st.text_input(\"Content Rating\", \"PG-13\")\n",
        "    language = st.text_input(\"Language\", \"English\")\n",
        "    country = st.text_input(\"Country\", \"USA\")\n",
        "\n",
        "    submitted = st.form_submit_button(\"Predict\")\n",
        "\n",
        "if submitted:\n",
        "    input_df = pd.DataFrame({\n",
        "        'director_ratio': [get_ratio(director_ratio_df, director, genre)],\n",
        "        'actor1_ratio': [get_ratio(actor1_ratio_df, actor1, genre)],\n",
        "        'actor2_ratio': [get_ratio(actor2_ratio_df, actor2, genre)],\n",
        "        'actor3_ratio': [get_ratio(actor3_ratio_df, actor3, genre)],\n",
        "        'genres': [genre],\n",
        "        'content_rating': [rating],\n",
        "        'language': [language],\n",
        "        'country': [country]\n",
        "    })\n",
        "\n",
        "    prediction = model.predict(input_df)[0]\n",
        "    result = \"🎉 HIT!\" if prediction == 1 else \"💔 FLOP.\"\n",
        "\n",
        "    st.subheader(\"Prediction Result:\")\n",
        "    st.success(result)\n"
      ],
      "metadata": {
        "colab": {
          "base_uri": "https://localhost:8080/"
        },
        "id": "dQllYJw_dej_",
        "outputId": "666887f8-4c83-4b53-91f1-b5864eeede1e"
      },
      "execution_count": null,
      "outputs": [
        {
          "output_type": "stream",
          "name": "stdout",
          "text": [
            "Requirement already satisfied: streamlit in /usr/local/lib/python3.11/dist-packages (1.44.1)\n",
            "Requirement already satisfied: altair<6,>=4.0 in /usr/local/lib/python3.11/dist-packages (from streamlit) (5.5.0)\n",
            "Requirement already satisfied: blinker<2,>=1.0.0 in /usr/local/lib/python3.11/dist-packages (from streamlit) (1.9.0)\n",
            "Requirement already satisfied: cachetools<6,>=4.0 in /usr/local/lib/python3.11/dist-packages (from streamlit) (5.5.2)\n",
            "Requirement already satisfied: click<9,>=7.0 in /usr/local/lib/python3.11/dist-packages (from streamlit) (8.1.8)\n",
            "Requirement already satisfied: numpy<3,>=1.23 in /usr/local/lib/python3.11/dist-packages (from streamlit) (2.0.2)\n",
            "Requirement already satisfied: packaging<25,>=20 in /usr/local/lib/python3.11/dist-packages (from streamlit) (24.2)\n",
            "Requirement already satisfied: pandas<3,>=1.4.0 in /usr/local/lib/python3.11/dist-packages (from streamlit) (2.2.2)\n",
            "Requirement already satisfied: pillow<12,>=7.1.0 in /usr/local/lib/python3.11/dist-packages (from streamlit) (11.1.0)\n",
            "Requirement already satisfied: protobuf<6,>=3.20 in /usr/local/lib/python3.11/dist-packages (from streamlit) (5.29.4)\n",
            "Requirement already satisfied: pyarrow>=7.0 in /usr/local/lib/python3.11/dist-packages (from streamlit) (18.1.0)\n",
            "Requirement already satisfied: requests<3,>=2.27 in /usr/local/lib/python3.11/dist-packages (from streamlit) (2.32.3)\n",
            "Requirement already satisfied: tenacity<10,>=8.1.0 in /usr/local/lib/python3.11/dist-packages (from streamlit) (9.1.2)\n",
            "Requirement already satisfied: toml<2,>=0.10.1 in /usr/local/lib/python3.11/dist-packages (from streamlit) (0.10.2)\n",
            "Requirement already satisfied: typing-extensions<5,>=4.4.0 in /usr/local/lib/python3.11/dist-packages (from streamlit) (4.13.2)\n",
            "Requirement already satisfied: watchdog<7,>=2.1.5 in /usr/local/lib/python3.11/dist-packages (from streamlit) (6.0.0)\n",
            "Requirement already satisfied: gitpython!=3.1.19,<4,>=3.0.7 in /usr/local/lib/python3.11/dist-packages (from streamlit) (3.1.44)\n",
            "Requirement already satisfied: pydeck<1,>=0.8.0b4 in /usr/local/lib/python3.11/dist-packages (from streamlit) (0.9.1)\n",
            "Requirement already satisfied: tornado<7,>=6.0.3 in /usr/local/lib/python3.11/dist-packages (from streamlit) (6.4.2)\n",
            "Requirement already satisfied: jinja2 in /usr/local/lib/python3.11/dist-packages (from altair<6,>=4.0->streamlit) (3.1.6)\n",
            "Requirement already satisfied: jsonschema>=3.0 in /usr/local/lib/python3.11/dist-packages (from altair<6,>=4.0->streamlit) (4.23.0)\n",
            "Requirement already satisfied: narwhals>=1.14.2 in /usr/local/lib/python3.11/dist-packages (from altair<6,>=4.0->streamlit) (1.35.0)\n",
            "Requirement already satisfied: gitdb<5,>=4.0.1 in /usr/local/lib/python3.11/dist-packages (from gitpython!=3.1.19,<4,>=3.0.7->streamlit) (4.0.12)\n",
            "Requirement already satisfied: python-dateutil>=2.8.2 in /usr/local/lib/python3.11/dist-packages (from pandas<3,>=1.4.0->streamlit) (2.8.2)\n",
            "Requirement already satisfied: pytz>=2020.1 in /usr/local/lib/python3.11/dist-packages (from pandas<3,>=1.4.0->streamlit) (2025.2)\n",
            "Requirement already satisfied: tzdata>=2022.7 in /usr/local/lib/python3.11/dist-packages (from pandas<3,>=1.4.0->streamlit) (2025.2)\n",
            "Requirement already satisfied: charset-normalizer<4,>=2 in /usr/local/lib/python3.11/dist-packages (from requests<3,>=2.27->streamlit) (3.4.1)\n",
            "Requirement already satisfied: idna<4,>=2.5 in /usr/local/lib/python3.11/dist-packages (from requests<3,>=2.27->streamlit) (3.10)\n",
            "Requirement already satisfied: urllib3<3,>=1.21.1 in /usr/local/lib/python3.11/dist-packages (from requests<3,>=2.27->streamlit) (2.3.0)\n",
            "Requirement already satisfied: certifi>=2017.4.17 in /usr/local/lib/python3.11/dist-packages (from requests<3,>=2.27->streamlit) (2025.1.31)\n",
            "Requirement already satisfied: smmap<6,>=3.0.1 in /usr/local/lib/python3.11/dist-packages (from gitdb<5,>=4.0.1->gitpython!=3.1.19,<4,>=3.0.7->streamlit) (5.0.2)\n",
            "Requirement already satisfied: MarkupSafe>=2.0 in /usr/local/lib/python3.11/dist-packages (from jinja2->altair<6,>=4.0->streamlit) (3.0.2)\n",
            "Requirement already satisfied: attrs>=22.2.0 in /usr/local/lib/python3.11/dist-packages (from jsonschema>=3.0->altair<6,>=4.0->streamlit) (25.3.0)\n",
            "Requirement already satisfied: jsonschema-specifications>=2023.03.6 in /usr/local/lib/python3.11/dist-packages (from jsonschema>=3.0->altair<6,>=4.0->streamlit) (2024.10.1)\n",
            "Requirement already satisfied: referencing>=0.28.4 in /usr/local/lib/python3.11/dist-packages (from jsonschema>=3.0->altair<6,>=4.0->streamlit) (0.36.2)\n",
            "Requirement already satisfied: rpds-py>=0.7.1 in /usr/local/lib/python3.11/dist-packages (from jsonschema>=3.0->altair<6,>=4.0->streamlit) (0.24.0)\n",
            "Requirement already satisfied: six>=1.5 in /usr/local/lib/python3.11/dist-packages (from python-dateutil>=2.8.2->pandas<3,>=1.4.0->streamlit) (1.17.0)\n"
          ]
        },
        {
          "output_type": "stream",
          "name": "stderr",
          "text": [
            "2025-04-21 18:12:06.655 WARNING streamlit.runtime.scriptrunner_utils.script_run_context: Thread 'MainThread': missing ScriptRunContext! This warning can be ignored when running in bare mode.\n",
            "2025-04-21 18:12:06.849 \n",
            "  \u001b[33m\u001b[1mWarning:\u001b[0m to view this Streamlit app on a browser, run it with the following\n",
            "  command:\n",
            "\n",
            "    streamlit run /usr/local/lib/python3.11/dist-packages/colab_kernel_launcher.py [ARGUMENTS]\n",
            "2025-04-21 18:12:06.850 Thread 'MainThread': missing ScriptRunContext! This warning can be ignored when running in bare mode.\n",
            "2025-04-21 18:12:06.852 Thread 'MainThread': missing ScriptRunContext! This warning can be ignored when running in bare mode.\n",
            "2025-04-21 18:12:06.855 Thread 'MainThread': missing ScriptRunContext! This warning can be ignored when running in bare mode.\n",
            "2025-04-21 18:12:06.856 Thread 'MainThread': missing ScriptRunContext! This warning can be ignored when running in bare mode.\n",
            "2025-04-21 18:12:06.857 Thread 'MainThread': missing ScriptRunContext! This warning can be ignored when running in bare mode.\n",
            "2025-04-21 18:12:06.859 Thread 'MainThread': missing ScriptRunContext! This warning can be ignored when running in bare mode.\n",
            "2025-04-21 18:12:06.860 Thread 'MainThread': missing ScriptRunContext! This warning can be ignored when running in bare mode.\n",
            "2025-04-21 18:12:06.862 Thread 'MainThread': missing ScriptRunContext! This warning can be ignored when running in bare mode.\n",
            "2025-04-21 18:12:06.863 Thread 'MainThread': missing ScriptRunContext! This warning can be ignored when running in bare mode.\n",
            "2025-04-21 18:12:06.865 Session state does not function when running a script without `streamlit run`\n",
            "2025-04-21 18:12:06.867 Thread 'MainThread': missing ScriptRunContext! This warning can be ignored when running in bare mode.\n",
            "2025-04-21 18:12:06.868 Thread 'MainThread': missing ScriptRunContext! This warning can be ignored when running in bare mode.\n",
            "2025-04-21 18:12:06.870 Thread 'MainThread': missing ScriptRunContext! This warning can be ignored when running in bare mode.\n",
            "2025-04-21 18:12:06.871 Thread 'MainThread': missing ScriptRunContext! This warning can be ignored when running in bare mode.\n",
            "2025-04-21 18:12:06.872 Thread 'MainThread': missing ScriptRunContext! This warning can be ignored when running in bare mode.\n",
            "2025-04-21 18:12:06.873 Thread 'MainThread': missing ScriptRunContext! This warning can be ignored when running in bare mode.\n",
            "2025-04-21 18:12:06.874 Thread 'MainThread': missing ScriptRunContext! This warning can be ignored when running in bare mode.\n",
            "2025-04-21 18:12:06.875 Thread 'MainThread': missing ScriptRunContext! This warning can be ignored when running in bare mode.\n",
            "2025-04-21 18:12:06.875 Thread 'MainThread': missing ScriptRunContext! This warning can be ignored when running in bare mode.\n",
            "2025-04-21 18:12:06.876 Thread 'MainThread': missing ScriptRunContext! This warning can be ignored when running in bare mode.\n",
            "2025-04-21 18:12:06.876 Thread 'MainThread': missing ScriptRunContext! This warning can be ignored when running in bare mode.\n",
            "2025-04-21 18:12:06.877 Thread 'MainThread': missing ScriptRunContext! This warning can be ignored when running in bare mode.\n",
            "2025-04-21 18:12:06.877 Thread 'MainThread': missing ScriptRunContext! This warning can be ignored when running in bare mode.\n",
            "2025-04-21 18:12:06.881 Thread 'MainThread': missing ScriptRunContext! This warning can be ignored when running in bare mode.\n",
            "2025-04-21 18:12:06.882 Thread 'MainThread': missing ScriptRunContext! This warning can be ignored when running in bare mode.\n",
            "2025-04-21 18:12:06.882 Thread 'MainThread': missing ScriptRunContext! This warning can be ignored when running in bare mode.\n",
            "2025-04-21 18:12:06.883 Thread 'MainThread': missing ScriptRunContext! This warning can be ignored when running in bare mode.\n",
            "2025-04-21 18:12:06.884 Thread 'MainThread': missing ScriptRunContext! This warning can be ignored when running in bare mode.\n",
            "2025-04-21 18:12:06.884 Thread 'MainThread': missing ScriptRunContext! This warning can be ignored when running in bare mode.\n",
            "2025-04-21 18:12:06.885 Thread 'MainThread': missing ScriptRunContext! This warning can be ignored when running in bare mode.\n",
            "2025-04-21 18:12:06.885 Thread 'MainThread': missing ScriptRunContext! This warning can be ignored when running in bare mode.\n",
            "2025-04-21 18:12:06.887 Thread 'MainThread': missing ScriptRunContext! This warning can be ignored when running in bare mode.\n",
            "2025-04-21 18:12:06.887 Thread 'MainThread': missing ScriptRunContext! This warning can be ignored when running in bare mode.\n",
            "2025-04-21 18:12:06.889 Thread 'MainThread': missing ScriptRunContext! This warning can be ignored when running in bare mode.\n",
            "2025-04-21 18:12:06.890 Thread 'MainThread': missing ScriptRunContext! This warning can be ignored when running in bare mode.\n",
            "2025-04-21 18:12:06.890 Thread 'MainThread': missing ScriptRunContext! This warning can be ignored when running in bare mode.\n",
            "2025-04-21 18:12:06.891 Thread 'MainThread': missing ScriptRunContext! This warning can be ignored when running in bare mode.\n",
            "2025-04-21 18:12:06.891 Thread 'MainThread': missing ScriptRunContext! This warning can be ignored when running in bare mode.\n",
            "2025-04-21 18:12:06.892 Thread 'MainThread': missing ScriptRunContext! This warning can be ignored when running in bare mode.\n",
            "2025-04-21 18:12:06.893 Thread 'MainThread': missing ScriptRunContext! This warning can be ignored when running in bare mode.\n",
            "2025-04-21 18:12:06.893 Thread 'MainThread': missing ScriptRunContext! This warning can be ignored when running in bare mode.\n",
            "2025-04-21 18:12:06.894 Thread 'MainThread': missing ScriptRunContext! This warning can be ignored when running in bare mode.\n",
            "2025-04-21 18:12:06.901 Thread 'MainThread': missing ScriptRunContext! This warning can be ignored when running in bare mode.\n",
            "2025-04-21 18:12:06.902 Thread 'MainThread': missing ScriptRunContext! This warning can be ignored when running in bare mode.\n",
            "2025-04-21 18:12:06.904 Thread 'MainThread': missing ScriptRunContext! This warning can be ignored when running in bare mode.\n",
            "2025-04-21 18:12:06.905 Thread 'MainThread': missing ScriptRunContext! This warning can be ignored when running in bare mode.\n",
            "2025-04-21 18:12:06.908 Thread 'MainThread': missing ScriptRunContext! This warning can be ignored when running in bare mode.\n",
            "2025-04-21 18:12:06.908 Thread 'MainThread': missing ScriptRunContext! This warning can be ignored when running in bare mode.\n",
            "2025-04-21 18:12:06.909 Thread 'MainThread': missing ScriptRunContext! This warning can be ignored when running in bare mode.\n",
            "2025-04-21 18:12:06.911 Thread 'MainThread': missing ScriptRunContext! This warning can be ignored when running in bare mode.\n",
            "2025-04-21 18:12:06.913 Thread 'MainThread': missing ScriptRunContext! This warning can be ignored when running in bare mode.\n",
            "2025-04-21 18:12:06.913 Thread 'MainThread': missing ScriptRunContext! This warning can be ignored when running in bare mode.\n",
            "2025-04-21 18:12:06.914 Thread 'MainThread': missing ScriptRunContext! This warning can be ignored when running in bare mode.\n",
            "2025-04-21 18:12:06.915 Thread 'MainThread': missing ScriptRunContext! This warning can be ignored when running in bare mode.\n",
            "2025-04-21 18:12:06.918 Thread 'MainThread': missing ScriptRunContext! This warning can be ignored when running in bare mode.\n",
            "2025-04-21 18:12:06.919 Thread 'MainThread': missing ScriptRunContext! This warning can be ignored when running in bare mode.\n",
            "2025-04-21 18:12:06.920 Thread 'MainThread': missing ScriptRunContext! This warning can be ignored when running in bare mode.\n",
            "2025-04-21 18:12:06.920 Thread 'MainThread': missing ScriptRunContext! This warning can be ignored when running in bare mode.\n",
            "2025-04-21 18:12:06.921 Thread 'MainThread': missing ScriptRunContext! This warning can be ignored when running in bare mode.\n"
          ]
        }
      ]
    },
    {
      "cell_type": "code",
      "source": [
        "with open(\"app.py\", \"w\") as f:\n",
        "    f.write(\"\"\"\n",
        "import streamlit as st\n",
        "import pandas as pd\n",
        "import joblib\n",
        "\n",
        "# Load saved model\n",
        "model = joblib.load(\"movie_success_genrewise_predictor.pkl\")\n",
        "df = pd.read_csv(\"movie_metadata.csv\")\n",
        "df['success'] = (df['imdb_score'] >= 6.5).astype(int)\n",
        "\n",
        "# Compute success ratios\n",
        "def compute_genre_success_ratio(df, role_col):\n",
        "    ratio = df.groupby([role_col, 'genres'])['success'].mean().reset_index()\n",
        "    ratio.columns = [role_col, 'genres', 'success_ratio']\n",
        "    return ratio\n",
        "\n",
        "director_ratio_df = compute_genre_success_ratio(df, 'director_name')\n",
        "actor1_ratio_df = compute_genre_success_ratio(df, 'actor_1_name')\n",
        "actor2_ratio_df = compute_genre_success_ratio(df, 'actor_2_name')\n",
        "actor3_ratio_df = compute_genre_success_ratio(df, 'actor_3_name')\n",
        "\n",
        "def get_ratio(ratio_df, name, genre):\n",
        "    match = ratio_df[(ratio_df[ratio_df.columns[0]] == name) & (ratio_df['genres'] == genre)]\n",
        "    return float(match['success_ratio']) if not match.empty else 0.5\n",
        "\n",
        "# Streamlit UI\n",
        "st.title(\"🎬 Movie Success Predictor\")\n",
        "st.markdown(\"Predict if a movie will be a **HIT or FLOP** based on past genre-wise performance of director & actors.\")\n",
        "\n",
        "with st.form(\"movie_form\"):\n",
        "    director = st.text_input(\"Director Name\", \"Steven Spielberg\")\n",
        "    actor1 = st.text_input(\"Actor 1 Name\", \"Tom Hanks\")\n",
        "    actor2 = st.text_input(\"Actor 2 Name\", \"Robin Williams\")\n",
        "    actor3 = st.text_input(\"Actor 3 Name\", \"Meryl Streep\")\n",
        "    genre = st.text_input(\"Genre\", \"Drama\")\n",
        "    rating = st.text_input(\"Content Rating\", \"PG-13\")\n",
        "    language = st.text_input(\"Language\", \"English\")\n",
        "    country = st.text_input(\"Country\", \"USA\")\n",
        "\n",
        "    submitted = st.form_submit_button(\"Predict\")\n",
        "\n",
        "if submitted:\n",
        "    input_df = pd.DataFrame({\n",
        "        'director_ratio': [get_ratio(director_ratio_df, director, genre)],\n",
        "        'actor1_ratio': [get_ratio(actor1_ratio_df, actor1, genre)],\n",
        "        'actor2_ratio': [get_ratio(actor2_ratio_df, actor2, genre)],\n",
        "        'actor3_ratio': [get_ratio(actor3_ratio_df, actor3, genre)],\n",
        "        'genres': [genre],\n",
        "        'content_rating': [rating],\n",
        "        'language': [language],\n",
        "        'country': [country]\n",
        "    })\n",
        "\n",
        "    prediction = model.predict(input_df)[0]\n",
        "    result = \"🎉 HIT!\" if prediction == 1 else \"💔 FLOP.\"\n",
        "\n",
        "    st.subheader(\"Prediction Result:\")\n",
        "    st.success(result)\n",
        "\"\"\")\n",
        "\n",
        "\n"
      ],
      "metadata": {
        "id": "EWL-49wQfVGM"
      },
      "execution_count": null,
      "outputs": []
    },
    {
      "cell_type": "code",
      "source": [
        "import pandas as pd\n",
        "import joblib\n",
        "\n",
        "# Load the saved model\n",
        "model = joblib.load(\"/content/movie_success_genrewise_predictor.pkl\")\n",
        "\n",
        "# Load training data to compute success ratios\n",
        "df = pd.read_csv(\"/content/movie_metadata.csv\")\n",
        "df['success'] = (df['imdb_score'] >= 6.5).astype(int)\n",
        "\n",
        "# Compute success ratio mappings\n",
        "def compute_genre_success_ratio(df, role_col):\n",
        "    ratio = df.groupby([role_col, 'genres'])['success'].mean().reset_index()\n",
        "    ratio.columns = [role_col, 'genres', 'success_ratio']\n",
        "    return ratio\n",
        "\n",
        "director_ratio_df = compute_genre_success_ratio(df, 'director_name')\n",
        "actor1_ratio_df = compute_genre_success_ratio(df, 'actor_1_name')\n",
        "actor2_ratio_df = compute_genre_success_ratio(df, 'actor_2_name')\n",
        "actor3_ratio_df = compute_genre_success_ratio(df, 'actor_3_name')\n",
        "\n",
        "# Prediction function\n",
        "def predict_movie_success(director_name, actor_1_name, actor_2_name, actor_3_name,\n",
        "                          genres, content_rating, language, country):\n",
        "\n",
        "    # Get success ratios from precomputed DataFrames\n",
        "    def get_ratio(ratio_df, role, genre):\n",
        "        match = ratio_df[(ratio_df[ratio_df.columns[0]] == role) & (ratio_df['genres'] == genre)]\n",
        "        return float(match['success_ratio']) if not match.empty else 0.5  # default to 0.5 if no data\n",
        "\n",
        "    input_data = pd.DataFrame({\n",
        "        'director_ratio': [get_ratio(director_ratio_df, director_name, genres)],\n",
        "        'actor1_ratio': [get_ratio(actor1_ratio_df, actor_1_name, genres)],\n",
        "        'actor2_ratio': [get_ratio(actor2_ratio_df, actor_2_name, genres)],\n",
        "        'actor3_ratio': [get_ratio(actor3_ratio_df, actor_3_name, genres)],\n",
        "        'genres': [genres],\n",
        "        'content_rating': [content_rating],\n",
        "        'language': [language],\n",
        "        'country': [country]\n",
        "    })\n",
        "\n",
        "    prediction = model.predict(input_data)\n",
        "    return \"🎬 The movie is predicted to be a **HIT!**\" if prediction[0] == 1 else \"🎬 The movie is predicted to be a **FLOP.**\"\n",
        "director = \"James Cameron\"         # Famous for action/sci-fi hits like Terminator, Avatar\n",
        "actor_1 = \"Arnold Schwarzenegger\"  # Known for successful action roles\n",
        "actor_2 = \"Linda Hamilton\"\n",
        "actor_3 = \"Michael Biehn\"\n",
        "genres = \"Action|Sci-Fi\"\n",
        "content_rating = \"R\"\n",
        "language = \"English\"\n",
        "country = \"USA\"\n",
        "\n",
        "result = predict_movie_success(director, actor_1, actor_2, actor_3, genres, content_rating, language, country)\n",
        "print(result)\n",
        "print(df)\n"
      ],
      "metadata": {
        "colab": {
          "base_uri": "https://localhost:8080/"
        },
        "id": "VUutLCjTYSVa",
        "outputId": "8b3694e3-6456-432c-d157-be4564c13661"
      },
      "execution_count": null,
      "outputs": [
        {
          "output_type": "stream",
          "name": "stdout",
          "text": [
            "🎬 The movie is predicted to be a **HIT!**\n",
            "      color      director_name  num_critic_for_reviews  duration  \\\n",
            "0     Color      James Cameron                   723.0     178.0   \n",
            "1     Color     Gore Verbinski                   302.0     169.0   \n",
            "2     Color         Sam Mendes                   602.0     148.0   \n",
            "3     Color  Christopher Nolan                   813.0     164.0   \n",
            "4       NaN        Doug Walker                     NaN       NaN   \n",
            "...     ...                ...                     ...       ...   \n",
            "5038  Color        Scott Smith                     1.0      87.0   \n",
            "5039  Color                NaN                    43.0      43.0   \n",
            "5040  Color   Benjamin Roberds                    13.0      76.0   \n",
            "5041  Color        Daniel Hsia                    14.0     100.0   \n",
            "5042  Color           Jon Gunn                    43.0      90.0   \n",
            "\n",
            "      director_facebook_likes  actor_3_facebook_likes      actor_2_name  \\\n",
            "0                         0.0                   855.0  Joel David Moore   \n",
            "1                       563.0                  1000.0     Orlando Bloom   \n",
            "2                         0.0                   161.0      Rory Kinnear   \n",
            "3                     22000.0                 23000.0    Christian Bale   \n",
            "4                       131.0                     NaN        Rob Walker   \n",
            "...                       ...                     ...               ...   \n",
            "5038                      2.0                   318.0     Daphne Zuniga   \n",
            "5039                      NaN                   319.0     Valorie Curry   \n",
            "5040                      0.0                     0.0     Maxwell Moody   \n",
            "5041                      0.0                   489.0     Daniel Henney   \n",
            "5042                     16.0                    16.0  Brian Herzlinger   \n",
            "\n",
            "      actor_1_facebook_likes        gross                           genres  \\\n",
            "0                     1000.0  760505847.0  Action|Adventure|Fantasy|Sci-Fi   \n",
            "1                    40000.0  309404152.0         Action|Adventure|Fantasy   \n",
            "2                    11000.0  200074175.0        Action|Adventure|Thriller   \n",
            "3                    27000.0  448130642.0                  Action|Thriller   \n",
            "4                      131.0          NaN                      Documentary   \n",
            "...                      ...          ...                              ...   \n",
            "5038                   637.0          NaN                     Comedy|Drama   \n",
            "5039                   841.0          NaN     Crime|Drama|Mystery|Thriller   \n",
            "5040                     0.0          NaN            Drama|Horror|Thriller   \n",
            "5041                   946.0      10443.0             Comedy|Drama|Romance   \n",
            "5042                    86.0      85222.0                      Documentary   \n",
            "\n",
            "      ... language country  content_rating       budget title_year  \\\n",
            "0     ...  English     USA           PG-13  237000000.0     2009.0   \n",
            "1     ...  English     USA           PG-13  300000000.0     2007.0   \n",
            "2     ...  English      UK           PG-13  245000000.0     2015.0   \n",
            "3     ...  English     USA           PG-13  250000000.0     2012.0   \n",
            "4     ...      NaN     NaN             NaN          NaN        NaN   \n",
            "...   ...      ...     ...             ...          ...        ...   \n",
            "5038  ...  English  Canada             NaN          NaN     2013.0   \n",
            "5039  ...  English     USA           TV-14          NaN        NaN   \n",
            "5040  ...  English     USA             NaN       1400.0     2013.0   \n",
            "5041  ...  English     USA           PG-13          NaN     2012.0   \n",
            "5042  ...  English     USA              PG       1100.0     2004.0   \n",
            "\n",
            "      actor_2_facebook_likes imdb_score aspect_ratio  movie_facebook_likes  \\\n",
            "0                      936.0        7.9         1.78                 33000   \n",
            "1                     5000.0        7.1         2.35                     0   \n",
            "2                      393.0        6.8         2.35                 85000   \n",
            "3                    23000.0        8.5         2.35                164000   \n",
            "4                       12.0        7.1          NaN                     0   \n",
            "...                      ...        ...          ...                   ...   \n",
            "5038                   470.0        7.7          NaN                    84   \n",
            "5039                   593.0        7.5        16.00                 32000   \n",
            "5040                     0.0        6.3          NaN                    16   \n",
            "5041                   719.0        6.3         2.35                   660   \n",
            "5042                    23.0        6.6         1.85                   456   \n",
            "\n",
            "     success  \n",
            "0          1  \n",
            "1          1  \n",
            "2          1  \n",
            "3          1  \n",
            "4          1  \n",
            "...      ...  \n",
            "5038       1  \n",
            "5039       1  \n",
            "5040       0  \n",
            "5041       0  \n",
            "5042       1  \n",
            "\n",
            "[5043 rows x 29 columns]\n"
          ]
        },
        {
          "output_type": "stream",
          "name": "stderr",
          "text": [
            "<ipython-input-13-62b56a684111>:29: FutureWarning: Calling float on a single element Series is deprecated and will raise a TypeError in the future. Use float(ser.iloc[0]) instead\n",
            "  return float(match['success_ratio']) if not match.empty else 0.5  # default to 0.5 if no data\n"
          ]
        }
      ]
    },
    {
      "cell_type": "code",
      "source": [
        "# Save DataFrame to Excel\n",
        "df.to_excel(\"movie_data_summary.xlsx\", index=False)\n",
        "\n",
        "# To download the file\n",
        "from google.colab import files\n",
        "files.download(\"movie_data_summary.xlsx\")\n"
      ],
      "metadata": {
        "colab": {
          "base_uri": "https://localhost:8080/",
          "height": 17
        },
        "id": "QxJptD4BgWSD",
        "outputId": "9941d7da-03b6-4825-e5a1-e1221953799e"
      },
      "execution_count": null,
      "outputs": [
        {
          "output_type": "display_data",
          "data": {
            "text/plain": [
              "<IPython.core.display.Javascript object>"
            ],
            "application/javascript": [
              "\n",
              "    async function download(id, filename, size) {\n",
              "      if (!google.colab.kernel.accessAllowed) {\n",
              "        return;\n",
              "      }\n",
              "      const div = document.createElement('div');\n",
              "      const label = document.createElement('label');\n",
              "      label.textContent = `Downloading \"${filename}\": `;\n",
              "      div.appendChild(label);\n",
              "      const progress = document.createElement('progress');\n",
              "      progress.max = size;\n",
              "      div.appendChild(progress);\n",
              "      document.body.appendChild(div);\n",
              "\n",
              "      const buffers = [];\n",
              "      let downloaded = 0;\n",
              "\n",
              "      const channel = await google.colab.kernel.comms.open(id);\n",
              "      // Send a message to notify the kernel that we're ready.\n",
              "      channel.send({})\n",
              "\n",
              "      for await (const message of channel.messages) {\n",
              "        // Send a message to notify the kernel that we're ready.\n",
              "        channel.send({})\n",
              "        if (message.buffers) {\n",
              "          for (const buffer of message.buffers) {\n",
              "            buffers.push(buffer);\n",
              "            downloaded += buffer.byteLength;\n",
              "            progress.value = downloaded;\n",
              "          }\n",
              "        }\n",
              "      }\n",
              "      const blob = new Blob(buffers, {type: 'application/binary'});\n",
              "      const a = document.createElement('a');\n",
              "      a.href = window.URL.createObjectURL(blob);\n",
              "      a.download = filename;\n",
              "      div.appendChild(a);\n",
              "      a.click();\n",
              "      div.remove();\n",
              "    }\n",
              "  "
            ]
          },
          "metadata": {}
        },
        {
          "output_type": "display_data",
          "data": {
            "text/plain": [
              "<IPython.core.display.Javascript object>"
            ],
            "application/javascript": [
              "download(\"download_2af2d305-cda3-47ed-a2c1-6588654b73f8\", \"movie_data_summary.xlsx\", 1180629)"
            ]
          },
          "metadata": {}
        }
      ]
    },
    {
      "cell_type": "code",
      "source": [],
      "metadata": {
        "id": "vodFz--6p_pZ"
      },
      "execution_count": null,
      "outputs": []
    },
    {
      "cell_type": "code",
      "source": [],
      "metadata": {
        "id": "rvt1NI04p_4b"
      },
      "execution_count": null,
      "outputs": []
    },
    {
      "cell_type": "code",
      "source": [],
      "metadata": {
        "id": "HT1xfQyxp__z"
      },
      "execution_count": null,
      "outputs": []
    },
    {
      "cell_type": "code",
      "source": [],
      "metadata": {
        "id": "iUFc9RzBqABX"
      },
      "execution_count": null,
      "outputs": []
    },
    {
      "cell_type": "code",
      "source": [],
      "metadata": {
        "id": "fwx0uSkYqAE6"
      },
      "execution_count": null,
      "outputs": []
    }
  ]
}